{
 "cells": [
  {
   "cell_type": "markdown",
   "metadata": {},
   "source": [
    "### Chudnovsky Series\n",
    "\n",
    "The two Chudnovsky brothers gave the following time series expression to approximate the value of pi. This expression gets the value of pi to great accuracy with only a few terms. \n",
    "\n",
    "$$ \\frac{1}{\\pi} = 12 \\sum_{k=0}^{\\infty} \\frac{(-1)^k (6k)! (545140134k + 13591409)}{(3k)!(k!)^3 (640320)^{3k+3/2}} $$"
   ]
  },
  {
   "cell_type": "code",
   "execution_count": 1,
   "metadata": {},
   "outputs": [
    {
     "name": "stdout",
     "output_type": "stream",
     "text": [
      "Estimation of pi with 1 terms: 3.1415926535897345\n",
      "Difference from math.pi: 5.861977570020827e-14\n",
      "\n",
      "Estimation of pi with 4 terms: 3.1415926535897936\n",
      "Difference from math.pi: 4.440892098500626e-16\n",
      "\n",
      "Estimation of pi with 8 terms: 3.1415926535897936\n",
      "Difference from math.pi: 4.440892098500626e-16\n",
      "\n",
      "Value of math.pi for reference: 3.141592653589793\n"
     ]
    }
   ],
   "source": [
    "import math # will use this to calculate how accurate the expression is..\n",
    "\n",
    "def factorial(n):\n",
    "    \"\"\"\n",
    "    Calculate the factorial of a non-negative integer n using recursion.\n",
    "    \n",
    "    Parameters:\n",
    "    n (int): A non-negative integer whose factorial is to be computed.\n",
    "    \n",
    "    Returns:\n",
    "    int: The factorial of the input integer n.\n",
    "    \"\"\"\n",
    "    if n == 0:\n",
    "        return 1\n",
    "    return n * factorial(n - 1)\n",
    "\n",
    "def estimate_pi(num_terms):\n",
    "    \"\"\"\n",
    "    Estimate the value of pi using the Chudnovsky algorithm.\n",
    "    \n",
    "    Parameters:\n",
    "    num_terms (int): The number of terms to use in the series approximation.\n",
    "    \n",
    "    Returns:\n",
    "    float: The estimated value of pi.\n",
    "    \"\"\"\n",
    "    sum_result = 0\n",
    "    for k in range(num_terms):\n",
    "        numerator = (-1)**k * factorial(6*k) * (545140134*k + 13591409)\n",
    "        denominator = factorial(3*k) * (factorial(k)**3) * (640320**(3*k + 3/2))\n",
    "        sum_result += numerator / denominator\n",
    "    \n",
    "    return 1 / (12 * sum_result)\n",
    "\n",
    "# Estimate pi with different numbers of terms\n",
    "for terms in [1, 4, 8]:\n",
    "    pi_estimate = estimate_pi(terms)\n",
    "    print(f\"Estimation of pi with {terms} terms: {pi_estimate}\")\n",
    "    print(f\"Difference from math.pi: {abs(pi_estimate - math.pi)}\")\n",
    "    print()\n",
    "\n",
    "print(f\"Value of math.pi for reference: {math.pi}\")"
   ]
  },
  {
   "cell_type": "markdown",
   "metadata": {},
   "source": [
    "## Other similar series \n",
    "\n",
    "### Ramanujan–Sato series\n",
    "\n",
    "amanujan–Sato series are a generalization of Ramanujan's formulas for π, which are rapidly converging infinite series. These series are derived from modular forms and involve sequences of integers obeying certain recurrence relations. The series take the form:\n",
    "\n",
    "$$ \\frac{1}{\\pi} = \\sum_{k=0}^{\\infty} s(k) \\frac{Ak + B}{C^k} $$\n",
    "\n",
    "where ( s(k) ) are well-defined sequences, and ( A, B, C ) are constants involving modular forms of higher levels \n"
   ]
  },
  {
   "cell_type": "markdown",
   "metadata": {},
   "source": [
    "One such series is:\n",
    "\n",
    "$$ \\frac{1}{\\pi} = \\frac{2\\sqrt{2}}{9801} \\sum_{k=0}^{\\infty} \\frac{(4k)! (1103 + 26390k)}{(k!)^4 396^{4k}} $$"
   ]
  },
  {
   "cell_type": "markdown",
   "metadata": {},
   "source": [
    "This series converges extremely rapidly. In fact, each successive term of the series adds roughly 8 decimal places of accuracy to the approximation of $\\pi$. This means:\n",
    "\n",
    "* The first term alone gives π correct to 8 decimal places.\n",
    "* Using just 2 terms gives π correct to about 16 decimal places.\n",
    "* With 3 terms, one gets about 24 correct decimal places.\n",
    "* Four terms yield approximately 32 correct decimal places.\n",
    "\n",
    "So, for most practical purposes, even just 1-4 terms of this particular series are sufficient to get a highly accurate approximation of $\\pi$."
   ]
  },
  {
   "cell_type": "code",
   "execution_count": 2,
   "metadata": {},
   "outputs": [
    {
     "name": "stdout",
     "output_type": "stream",
     "text": [
      "Estimation of pi with 1 terms: 3.1415927300133055\n",
      "Difference from math.pi: 7.642351240733092e-08\n",
      "\n",
      "Estimation of pi with 4 terms: 3.141592653589793\n",
      "Difference from math.pi: 0.0\n",
      "\n",
      "Estimation of pi with 8 terms: 3.141592653589793\n",
      "Difference from math.pi: 0.0\n",
      "\n",
      "Value of math.pi for reference: 3.141592653589793\n"
     ]
    }
   ],
   "source": [
    "def factorial(n):\n",
    "    \"\"\"\n",
    "    Calculate the factorial of a non-negative integer n using recursion.\n",
    "    \n",
    "    Parameters:\n",
    "    n (int): A non-negative integer whose factorial is to be computed.\n",
    "    \n",
    "    Returns:\n",
    "    int: The factorial of the input integer n.\n",
    "    \"\"\"\n",
    "    if n == 0:\n",
    "        return 1\n",
    "    return n * factorial(n - 1)\n",
    "\n",
    "def estimate_pi(num_terms):\n",
    "    \"\"\"\n",
    "    Estimate the value of pi using the Ramanujan series.\n",
    "    \n",
    "    Parameters:\n",
    "    num_terms (int): The number of terms to use in the series approximation.\n",
    "    \n",
    "    Returns:\n",
    "    float: The estimated value of pi.\n",
    "    \"\"\"\n",
    "    sum_result = 0\n",
    "    for k in range(num_terms):\n",
    "        numerator = factorial(4*k) * (1103 + 26390*k)\n",
    "        denominator = (factorial(k)**4) * (396**(4*k))\n",
    "        sum_result += numerator / denominator\n",
    "    \n",
    "    factor = (2 * math.sqrt(2)) / 9801\n",
    "    pi_inverse = factor * sum_result\n",
    "    return 1 / pi_inverse\n",
    "\n",
    "# Estimate pi with different numbers of terms\n",
    "for terms in [1, 4, 8]:\n",
    "    pi_estimate = estimate_pi(terms)\n",
    "    print(f\"Estimation of pi with {terms} terms: {pi_estimate}\")\n",
    "    print(f\"Difference from math.pi: {abs(pi_estimate - math.pi)}\")\n",
    "    print()\n",
    "\n",
    "print(f\"Value of math.pi for reference: {math.pi}\")"
   ]
  },
  {
   "cell_type": "code",
   "execution_count": null,
   "metadata": {},
   "outputs": [],
   "source": []
  }
 ],
 "metadata": {
  "kernelspec": {
   "display_name": "Python 3",
   "language": "python",
   "name": "python3"
  },
  "language_info": {
   "codemirror_mode": {
    "name": "ipython",
    "version": 3
   },
   "file_extension": ".py",
   "mimetype": "text/x-python",
   "name": "python",
   "nbconvert_exporter": "python",
   "pygments_lexer": "ipython3",
   "version": "3.9.12"
  }
 },
 "nbformat": 4,
 "nbformat_minor": 2
}
